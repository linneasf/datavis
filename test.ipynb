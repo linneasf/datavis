{
 "cells": [
  {
   "cell_type": "code",
   "execution_count": 1,
   "metadata": {},
   "outputs": [],
   "source": [
    "import pandas as pd "
   ]
  },
  {
   "cell_type": "code",
   "execution_count": 2,
   "metadata": {},
   "outputs": [],
   "source": [
    "yearly_deaths=pd.read_csv('yearly_deaths_by_clinic.csv')"
   ]
  },
  {
   "cell_type": "code",
   "execution_count": 3,
   "metadata": {},
   "outputs": [],
   "source": [
    "monthly_deaths=pd.read_csv('monthly_deaths.csv')"
   ]
  },
  {
   "cell_type": "code",
   "execution_count": 9,
   "metadata": {},
   "outputs": [
    {
     "name": "stderr",
     "output_type": "stream",
     "text": [
      "/Users/sepeforrestl2/anaconda3/lib/python3.7/site-packages/scipy/stats/stats.py:1713: FutureWarning: Using a non-tuple sequence for multidimensional indexing is deprecated; use `arr[tuple(seq)]` instead of `arr[seq]`. In the future this will be interpreted as an array index, `arr[np.array(seq)]`, which will result either in an error or a different result.\n",
      "  return np.add.reduce(sorted[indexer] * weights, axis=axis) / sumval\n"
     ]
    },
    {
     "data": {
      "image/png": "[encoded data removed]",
      "text/plain": [
       "<Figure size 432x288 with 1 Axes>"
      ]
     },
     "metadata": {
      "needs_background": "light"
     },
     "output_type": "display_data"
    }
   ],
   "source": [
    "\n",
    "graph=sns.lineplot(x=\"births\",y=\"deaths\",data=monthly_deaths, estimator=\"mean\",ci=95)\n",
    "#,hue=\"DX\",style=\"Sess\",estimator=\"mean\", ci=95)\n",
    "ax=graph.axes\n",
    "ax.set_xlim(0,0.3)\n",
    "plt.title('Calcarine', fontsize=18)\n",
    "plt.xlabel('births', fontsize=14)\n",
    "plt.ylabel('deaths', fontsize=14)\n",
    "plt.tick_params(labelsize=13)\n",
    "#svm = sn.heatmap(df_cm, annot=True,cmap='coolwarm', linecolor='white', linewidths=1)\n",
    "\n",
    "figure = graph.get_figure()    \n",
    "#igure.savefig('',format='png', dpi=1000)\n",
    "#plt.savefig('/home/sepeforrestl2/EmoEvalGraphs/Calcarine_Line_KETPLC.eps',format='eps', dpi=1000)\n",
    "plt.show()\n",
    "\n",
    "\n"
   ]
  },
  {
   "cell_type": "code",
   "execution_count": 7,
   "metadata": {},
   "outputs": [],
   "source": [
    "import seaborn as sns"
   ]
  },
  {
   "cell_type": "code",
   "execution_count": 8,
   "metadata": {},
   "outputs": [],
   "source": [
    "import matplotlib.pyplot as plt "
   ]
  },
  {
   "cell_type": "code",
   "execution_count": null,
   "metadata": {},
   "outputs": [],
   "source": [
    "\n",
    "yearly_deaths=pd.read_csv('yearly_deaths_by_clinic.csv')\n",
    "monthly_deaths=pd.read_csv('monthly_deaths.csv')\n",
    "\n",
    "\n",
    "# variables are DX, Sess, and Valence\n",
    "\n",
    "graph=sns.lineplot(x=\"births\",y=\"deaths\",data=monthly_deaths, estimator=\"mean\",ci=95)\n",
    "#,hue=\"DX\",style=\"Sess\",estimator=\"mean\", ci=95)\n",
    "ax=graph.axes\n",
    "ax.set_xlim(0,0.3)\n",
    "plt.title('Calcarine', fontsize=18)\n",
    "plt.xlabel('births', fontsize=14)\n",
    "plt.ylabel('deaths', fontsize=14)\n",
    "plt.tick_params(labelsize=13)\n",
    "#svm = sn.heatmap(df_cm, annot=True,cmap='coolwarm', linecolor='white', linewidths=1)\n",
    "\n",
    "figure = graph.get_figure()    \n",
    "#igure.savefig('',format='png', dpi=1000)\n",
    "#plt.savefig('/home/sepeforrestl2/EmoEvalGraphs/Calcarine_Line_KETPLC.eps',format='eps', dpi=1000)\n",
    "plt.show()\n",
    "\n",
    "\n"
   ]
  },
  {
   "cell_type": "code",
   "execution_count": null,
   "metadata": {},
   "outputs": [],
   "source": []
  }
 ],
 "metadata": {
  "file_extension": ".py",
  "kernelspec": {
   "display_name": "Python 3",
   "language": "python",
   "name": "python3"
  },
  "language_info": {
   "codemirror_mode": {
    "name": "ipython",
    "version": 3
   },
   "file_extension": ".py",
   "mimetype": "text/x-python",
   "name": "python",
   "nbconvert_exporter": "python",
   "pygments_lexer": "ipython3",
   "version": "3.7.1"
  },
  "mimetype": "text/x-python",
  "name": "python",
  "npconvert_exporter": "python",
  "pygments_lexer": "ipython3",
  "version": 3
 },
 "nbformat": 4,
 "nbformat_minor": 2
}
